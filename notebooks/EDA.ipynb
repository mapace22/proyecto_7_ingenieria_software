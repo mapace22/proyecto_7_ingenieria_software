{
 "cells": [
  {
   "cell_type": "code",
   "execution_count": null,
   "id": "0ea55bd6",
   "metadata": {},
   "outputs": [],
   "source": [
    "import pandas as pd\n",
    "import plotly_express as px\n",
    "\n",
    "# Intenta cargar el archivo Parquet (más eficiente)\n",
    "try:\n",
    "    data = pd.read_parquet('../data_limpia.parquet')\n",
    "except FileNotFoundError:\n",
    "    # Si el Parquet no se encuentra, carga el CSV (menos eficiente)\n",
    "    data = pd.read_csv('../vehicles_us.csv')\n",
    "    print(\"Advertencia: No se encontró 'data_limpia.parquet', cargando desde CSV.\")\n",
    "\n",
    "# Histograma de precios\n",
    "fig_price = px.histogram(data, x='price', title='Distribución de Precios')\n",
    "fig_price.show()\n",
    "\n",
    "# Histograma de años de modelo\n",
    "fig_year = px.histogram(data, x='model_year', title='Distribución de Años de Modelo')\n",
    "fig_year.show()\n",
    "\n",
    "# Gráfico de barras de los 10 modelos más frecuentes\n",
    "top_models = data['model'].value_counts().nlargest(10).reset_index()\n",
    "top_models.columns = ['model', 'count']\n",
    "fig_models = px.bar(top_models, x='model', y='count', title='Top 10 Modelos')\n",
    "fig_models.show()\n"
   ]
  }
 ],
 "metadata": {
  "language_info": {
   "name": "python"
  }
 },
 "nbformat": 4,
 "nbformat_minor": 5
}
